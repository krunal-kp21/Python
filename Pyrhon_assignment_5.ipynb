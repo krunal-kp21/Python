{
 "cells": [
  {
   "cell_type": "markdown",
   "metadata": {},
   "source": [
    "Q1 : Write a loop to find the factorial of any number."
   ]
  },
  {
   "cell_type": "code",
   "execution_count": 3,
   "metadata": {},
   "outputs": [
    {
     "name": "stdout",
     "output_type": "stream",
     "text": [
      "Enter Number : 5\n",
      "The factorial of 5 is 120\n"
     ]
    }
   ],
   "source": [
    "num = int(input(\"Enter Number : \"))\n",
    "factorial = 1\n",
    "if num < 0:\n",
    "    print(\"Factorial does not exist for negative numbers\")\n",
    "elif num == 0:\n",
    "    print(\"The factorial of 0 is 1\")\n",
    "else:\n",
    "    for i in range(1, num + 1):\n",
    "        factorial = factorial * i\n",
    "    print(\"The factorial of\", num, \"is\", factorial)"
   ]
  },
  {
   "cell_type": "markdown",
   "metadata": {},
   "source": [
    "Q2 : Print the Fibonacci series up to the 15 terms."
   ]
  },
  {
   "cell_type": "code",
   "execution_count": 5,
   "metadata": {},
   "outputs": [
    {
     "name": "stdout",
     "output_type": "stream",
     "text": [
      "Fibonacci sequence:\n",
      "0  1  1  2  3  5  8  13  21  34  55  89  144  233  377  "
     ]
    }
   ],
   "source": [
    "terms = 15\n",
    "num1, num2 = 0, 1\n",
    "count = 0\n",
    "print(\"Fibonacci sequence:\")\n",
    "while count < terms:\n",
    "    print(num1, end=\"  \")\n",
    "    temp = num1 + num2\n",
    "    # update values\n",
    "    num1 = num2\n",
    "    num2 = temp\n",
    "    count += 1"
   ]
  },
  {
   "cell_type": "markdown",
   "metadata": {},
   "source": [
    "Q3 : program to print all the prime numbers within a specified range"
   ]
  },
  {
   "cell_type": "code",
   "execution_count": 7,
   "metadata": {},
   "outputs": [
    {
     "name": "stdout",
     "output_type": "stream",
     "text": [
      "Start Number : 2\n",
      "End Number : 20\n",
      "Prime numbers between 2 and 20 are:\n",
      "2\n",
      "3\n",
      "5\n",
      "7\n",
      "11\n",
      "13\n",
      "17\n",
      "19\n"
     ]
    }
   ],
   "source": [
    "start = int(input(\"Start Number : \"))\n",
    "end = int(input(\"End Number : \"))\n",
    "print(\"Prime numbers between\", start, \"and\", end, \"are:\")\n",
    "\n",
    "for num in range(start, end + 1):\n",
    "    if num > 1:\n",
    "        for i in range(2, num):\n",
    "            if (num % i) == 0:\n",
    "                break\n",
    "        else:\n",
    "            print(num)"
   ]
  },
  {
   "cell_type": "markdown",
   "metadata": {},
   "source": [
    "Q4 : Reverse the following list using for loop.\n",
    "\n",
    "list1 = [10, 20, 30, 40, 50]"
   ]
  },
  {
   "cell_type": "code",
   "execution_count": 9,
   "metadata": {},
   "outputs": [
    {
     "name": "stdout",
     "output_type": "stream",
     "text": [
      "50\n",
      "40\n",
      "30\n",
      "20\n",
      "10\n"
     ]
    }
   ],
   "source": [
    "list1 = [10, 20, 30, 40, 50]\n",
    "start = len(list1) - 1\n",
    "stop = -1\n",
    "step = -1\n",
    "for i in range(start, stop, step) :\n",
    "    print(list1[i])"
   ]
  },
  {
   "cell_type": "markdown",
   "metadata": {},
   "source": [
    "Q5 : Given a user defined number count the total number of digits in a number."
   ]
  },
  {
   "cell_type": "code",
   "execution_count": 10,
   "metadata": {},
   "outputs": [
    {
     "name": "stdout",
     "output_type": "stream",
     "text": [
      "Enter Number : 12345\n",
      "Total digits are:  5\n"
     ]
    }
   ],
   "source": [
    "num = int(input(\"Enter Number : \"))\n",
    "count = 0\n",
    "while num != 0:\n",
    "    num //= 10\n",
    "    count+= 1\n",
    "print(\"Total digits are: \", count)"
   ]
  },
  {
   "cell_type": "markdown",
   "metadata": {},
   "source": [
    "Q6 : Print the numbers which are divisible by 5 and if the number is greater than 150 stop the loop iteration.\n",
    "\n",
    "list1 = [12, 15, 32, 42, 55, 75, 122, 132, 150, 180, 200]"
   ]
  },
  {
   "cell_type": "code",
   "execution_count": null,
   "metadata": {},
   "outputs": [],
   "source": [
    "list1 = [12, 15, 32, 42, 55, 75, 122, 132, 150, 180, 200]\n",
    "for item in list1:\n",
    "    if (item > 150):\n",
    "        break\n",
    "    if(item % 5 == 0):\n",
    "        print(item)"
   ]
  },
  {
   "cell_type": "markdown",
   "metadata": {},
   "source": [
    "Q5 : A company decided to give bonus of 5% to employee if his/her year of service is more than 5 years.\n",
    "Ask user for their salary and year of service and print the net bonus amount.\n"
   ]
  },
  {
   "cell_type": "code",
   "execution_count": 1,
   "metadata": {},
   "outputs": [
    {
     "name": "stdout",
     "output_type": "stream",
     "text": [
      "Enter salary : 2345\n",
      "Enter year of service : 8\n",
      "Bonus is :  117.25\n"
     ]
    }
   ],
   "source": [
    "salary = int(input(\"Enter salary : \"))\n",
    "yos = int(input(\"Enter year of service : \"))\n",
    "if yos>5:\n",
    "  print (\"Bonus is : \",0.05*salary)\n",
    "else:\n",
    "  print (\"No bonus\")"
   ]
  },
  {
   "cell_type": "markdown",
   "metadata": {},
   "source": [
    "Q7 : A student will not be allowed to appear in exam if his/her attendence is less than 75%.\n",
    "Take following input from user\n",
    "Number of classes held\n",
    "Number of classes attended.\n",
    "And print\n",
    "percentage of class attended\n",
    "Is student is allowed to sit in exam or not."
   ]
  },
  {
   "cell_type": "code",
   "execution_count": 3,
   "metadata": {},
   "outputs": [
    {
     "name": "stdout",
     "output_type": "stream",
     "text": [
      "Number of classes held : 50\n",
      "Number of classes attended : 45\n",
      "Attendence is 90.0\n",
      "You are allowed to sit in exam\n"
     ]
    }
   ],
   "source": [
    "noh = int(input(\"Number of classes held : \"))\n",
    "noa = int(input(\"Number of classes attended : \"))\n",
    "attend = (noa/float(noh))*100\n",
    "print (\"Attendence is\",attend)\n",
    "if attend >= 75:\n",
    "    print(\"You are allowed to sit in exam\")\n",
    "else:\n",
    "      print (\"Sorry, you are not allowed. Attend more classes from next time.\")"
   ]
  },
  {
   "cell_type": "markdown",
   "metadata": {},
   "source": [
    "Q8 : Write a program to find greatest common divisor (GCD) or highest common factor (HCF) of given two numbers."
   ]
  },
  {
   "cell_type": "code",
   "execution_count": 6,
   "metadata": {},
   "outputs": [
    {
     "name": "stdout",
     "output_type": "stream",
     "text": [
      "Enter first number4\n",
      "Enter second number9\n",
      "1\n"
     ]
    }
   ],
   "source": [
    "x = int(input(\"Enter first number\"))\n",
    "y = int(input(\"Enter second number\"))\n",
    "\n",
    "while y != 0:\n",
    "    x, y = y, x % y\n",
    "print (x)"
   ]
  },
  {
   "cell_type": "markdown",
   "metadata": {},
   "source": [
    "Q9 : Write the frequency of character \"s\" in word \"mississippi\""
   ]
  },
  {
   "cell_type": "code",
   "execution_count": 9,
   "metadata": {},
   "outputs": [
    {
     "name": "stdout",
     "output_type": "stream",
     "text": [
      "4\n"
     ]
    }
   ],
   "source": [
    "a = \"mississippi\"\n",
    "c = 0\n",
    "for i in a:\n",
    "    if \"s\" == i:\n",
    "        c = c+1\n",
    "print(c)"
   ]
  },
  {
   "cell_type": "markdown",
   "metadata": {},
   "source": [
    "Q10 : print the frequency of each character from a string using dictionary.\n",
    "\n",
    "string = Fingertips Data Intelligence Solution"
   ]
  },
  {
   "cell_type": "code",
   "execution_count": 11,
   "metadata": {},
   "outputs": [
    {
     "name": "stdout",
     "output_type": "stream",
     "text": [
      "{'f': 1, 'i': 5, 'n': 4, 'g': 2, 'e': 4, 'r': 1, 't': 4, 'p': 1, 's': 2, ' ': 3, 'd': 1, 'a': 2, 'l': 3, 'c': 1, 'o': 2, 'u': 1}\n"
     ]
    }
   ],
   "source": [
    "arr = \"Fingertips Data Intelligence Solution\"\n",
    "lookup ={}\n",
    "for i in arr:\n",
    "    for j in i:\n",
    "        j = j.lower()\n",
    "        if j in lookup:\n",
    "            lookup[j] = lookup[j] +1\n",
    "        else:\n",
    "            lookup[j] = 1\n",
    "print(lookup)"
   ]
  },
  {
   "cell_type": "code",
   "execution_count": null,
   "metadata": {},
   "outputs": [],
   "source": []
  }
 ],
 "metadata": {
  "kernelspec": {
   "display_name": "Python 3",
   "language": "python",
   "name": "python3"
  },
  "language_info": {
   "codemirror_mode": {
    "name": "ipython",
    "version": 3
   },
   "file_extension": ".py",
   "mimetype": "text/x-python",
   "name": "python",
   "nbconvert_exporter": "python",
   "pygments_lexer": "ipython3",
   "version": "3.7.0"
  }
 },
 "nbformat": 4,
 "nbformat_minor": 4
}
