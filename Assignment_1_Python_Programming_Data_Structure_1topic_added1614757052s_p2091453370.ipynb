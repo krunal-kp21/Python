{
 "cells": [
  {
   "cell_type": "markdown",
   "metadata": {},
   "source": [
    "Q1 : Remove empty strings from the list of strings having values Fingertips,\"\",data,\"\",Intelligence,\"\",Solutions."
   ]
  },
  {
   "cell_type": "code",
   "execution_count": 3,
   "metadata": {},
   "outputs": [
    {
     "data": {
      "text/plain": [
       "['Fingertips', 'Data', 'Intelligence', 'Solutions']"
      ]
     },
     "execution_count": 3,
     "metadata": {},
     "output_type": "execute_result"
    }
   ],
   "source": [
    "List = [\"Fingertips\",\"\",\"Data\",\"Intelligence\",\"\",\"Solutions\"]\n",
    "List = list(filter(None, List))\n",
    "List"
   ]
  },
  {
   "cell_type": "markdown",
   "metadata": {},
   "source": [
    " Result = ['Fingertips', 'Data', 'Intelligence', 'Solutions']"
   ]
  },
  {
   "cell_type": "markdown",
   "metadata": {},
   "source": [
    "Q2 : Add item 7000 after 6000 in the following Python List\n",
    "   List = [10, 20, [300, 400, [5000, 6000], 500], 30, 40] "
   ]
  },
  {
   "cell_type": "code",
   "execution_count": 20,
   "metadata": {},
   "outputs": [
    {
     "data": {
      "text/plain": [
       "[10, 20, [300, 400, [5000, 6000, 7000], 500], 30, 40]"
      ]
     },
     "execution_count": 20,
     "metadata": {},
     "output_type": "execute_result"
    }
   ],
   "source": [
    "List = [10,20,[300,400,[5000,6000],500],30,40]\n",
    "List[2][2].append(7000)\n",
    "List"
   ]
  },
  {
   "cell_type": "markdown",
   "metadata": {},
   "source": [
    "Result = [10, 20, [300, 400, [5000, 6000, 7000], 500], 30, 40]"
   ]
  },
  {
   "cell_type": "markdown",
   "metadata": {},
   "source": [
    "Q3 : Given a Python list, remove the first occurrence of 20 from the list having values 5, 20, 15, 20, 25, 50, 20"
   ]
  },
  {
   "cell_type": "code",
   "execution_count": 26,
   "metadata": {},
   "outputs": [
    {
     "data": {
      "text/plain": [
       "[5, 15, 20, 25, 50, 20]"
      ]
     },
     "execution_count": 26,
     "metadata": {},
     "output_type": "execute_result"
    }
   ],
   "source": [
    "List1 = [5,20,15,20,25,50,20]\n",
    "List1.remove(20)\n",
    "List1"
   ]
  },
  {
   "cell_type": "markdown",
   "metadata": {},
   "source": [
    "Result = [5, 15, 20, 25, 50, 20]"
   ]
  },
  {
   "cell_type": "markdown",
   "metadata": {},
   "source": [
    "Q4 : Given the list L1 = ['a','b','c'] create a list having the 3 elements which contains the given. list (list of list)"
   ]
  },
  {
   "cell_type": "code",
   "execution_count": 43,
   "metadata": {},
   "outputs": [
    {
     "data": {
      "text/plain": [
       "[['a', 'b', 'c'], ['a', 'b', 'c'], ['a', 'b', 'c']]"
      ]
     },
     "execution_count": 43,
     "metadata": {},
     "output_type": "execute_result"
    }
   ],
   "source": [
    "L1 = [\"a\",\"b\",\"c\"]\n",
    "L2 = [L1]*3\n",
    "L2"
   ]
  },
  {
   "cell_type": "markdown",
   "metadata": {},
   "source": [
    "Result = [['a', 'b', 'c'], ['a', 'b', 'c'], ['a', 'b', 'c']]"
   ]
  },
  {
   "cell_type": "markdown",
   "metadata": {},
   "source": [
    "Q5 : Below are the two lists convert it into the dictionary.\n",
    "\n",
    "keys = ['one', 'two', 'three']\n",
    "\n",
    "values = [1, 2, 3]\n"
   ]
  },
  {
   "cell_type": "code",
   "execution_count": 4,
   "metadata": {},
   "outputs": [
    {
     "name": "stdout",
     "output_type": "stream",
     "text": [
      "{'one': 1, 'two': 2, 'three': 3}\n"
     ]
    }
   ],
   "source": [
    "keys = [\"one\",\"two\",\"three\"]\n",
    "values = [1,2,3]\n",
    "simpledict = dict(zip(keys,values))\n",
    "print(simpledict)"
   ]
  },
  {
   "cell_type": "markdown",
   "metadata": {},
   "source": [
    "Resul = {'one': 1, 'two': 2, 'three': 3}"
   ]
  },
  {
   "cell_type": "markdown",
   "metadata": {},
   "source": [
    "Q6 : Merge following two Python dictionaries into one\n",
    "\n",
    "dict1 = {'Ten': 10, 'Twenty': 20, 'Thirty': 30}\n",
    "dict2 = {'Thirty': 30, 'Fourty': 40, 'Fifty': 50}"
   ]
  },
  {
   "cell_type": "code",
   "execution_count": 49,
   "metadata": {},
   "outputs": [
    {
     "data": {
      "text/plain": [
       "{'Ten': 10, 'Twenty': 20, 'Thirty': 30, 'Fourty': 40, 'Fifty': 50}"
      ]
     },
     "execution_count": 49,
     "metadata": {},
     "output_type": "execute_result"
    }
   ],
   "source": [
    "dict1 = {\"Ten\":10,\"Twenty\":20,\"Thirty\":30}\n",
    "dict2 = {\"Thirty\":30,\"Fourty\":40,\"Fifty\":50}\n",
    "dict3 = {**dict1,**dict2}\n",
    "dict3"
   ]
  },
  {
   "cell_type": "markdown",
   "metadata": {},
   "source": [
    "Resul = {'Ten': 10, 'Twenty': 20, 'Thirty': 30, 'Fourty': 40, 'Fifty': 50}"
   ]
  },
  {
   "cell_type": "markdown",
   "metadata": {},
   "source": [
    "Q7 : Access the value of key ‘history’\n",
    "\n",
    "dict1 = { \"class\":{ \"student\":{ \"name\":\"Mike\",\"marks\":{ \"physics\":70,\"history\":80 } } } }\n"
   ]
  },
  {
   "cell_type": "code",
   "execution_count": 51,
   "metadata": {},
   "outputs": [
    {
     "data": {
      "text/plain": [
       "80"
      ]
     },
     "execution_count": 51,
     "metadata": {},
     "output_type": "execute_result"
    }
   ],
   "source": [
    "dict1 = {\"class\":{\"Student\":{\"name\":\"Mike\",\"marks\":{\"physics\":70,\"history\":80}}}}\n",
    "dict1[\"class\"][\"Student\"][\"marks\"][\"history\"]"
   ]
  },
  {
   "cell_type": "markdown",
   "metadata": {},
   "source": [
    "Result = 80"
   ]
  },
  {
   "cell_type": "markdown",
   "metadata": {},
   "source": [
    "Q8 : Rename key city to location in the following dictionary.\n",
    "\n",
    "dict1 = { \"name\": \"Akshay\", \"age\":25, \"salary\": 80000, \"city\": \"Mumbai\"}"
   ]
  },
  {
   "cell_type": "code",
   "execution_count": 56,
   "metadata": {},
   "outputs": [
    {
     "data": {
      "text/plain": [
       "{'name': 'Akshay', 'age': 25, 'salary': 8000, 'Location': 'Mumbai'}"
      ]
     },
     "execution_count": 56,
     "metadata": {},
     "output_type": "execute_result"
    }
   ],
   "source": [
    "dict1 = {\"name\":\"Akshay\",\"age\":25,\"salary\":8000,\"city\":\"Mumbai\"}\n",
    "dict1[\"Location\"] = dict1.pop(\"city\")\n",
    "dict1"
   ]
  },
  {
   "cell_type": "markdown",
   "metadata": {},
   "source": [
    "Result =  {'name': 'Akshay', 'age': 25, 'salary': 80000, 'location': 'Mumbai'}"
   ]
  },
  {
   "cell_type": "code",
   "execution_count": null,
   "metadata": {},
   "outputs": [],
   "source": []
  },
  {
   "cell_type": "markdown",
   "metadata": {},
   "source": [
    "Q9 : Get the key corresponding to the minimum value from the following dictionary.\n",
    "\n",
    "dict1 = { 'Physics': 82, 'Math': 65, 'Chemistry': 75}"
   ]
  },
  {
   "cell_type": "code",
   "execution_count": 57,
   "metadata": {},
   "outputs": [
    {
     "name": "stdout",
     "output_type": "stream",
     "text": [
      "Math\n"
     ]
    }
   ],
   "source": [
    "dict1 = {\"Physics\":82,\"Math\":65,\"Chemestry\":75}\n",
    "print(min(dict1,key=dict1.get))"
   ]
  },
  {
   "cell_type": "markdown",
   "metadata": {},
   "source": [
    "Result = Math"
   ]
  },
  {
   "cell_type": "markdown",
   "metadata": {},
   "source": [
    "Q10 : Given a Python dictionary, Change Akshay's salary to 85000.\n",
    "\n",
    "dict1 = {\n",
    "     'emp1': {'name': 'Jay', 'salary': 75000},\n",
    "     'emp2': {'name': 'Akshay', 'salary': 80000},\n",
    "     'emp3': {'name': 'Hrishikesh', 'salary': 65000}\n",
    "}"
   ]
  },
  {
   "cell_type": "code",
   "execution_count": 68,
   "metadata": {},
   "outputs": [
    {
     "data": {
      "text/plain": [
       "{'emp1': {'name': 'jay', 'salary': 75000},\n",
       " 'emp2': {'name': 'Akshay', 'salary': 80000},\n",
       " 'emp3': {'name': 'Hrishikesh', 'salary': 85000}}"
      ]
     },
     "execution_count": 68,
     "metadata": {},
     "output_type": "execute_result"
    }
   ],
   "source": [
    "dict1 = {\n",
    "    \"emp1\":{\"name\":\"jay\",\"salary\":75000},\n",
    "    \"emp2\":{\"name\":\"Akshay\",\"salary\":80000},\n",
    "    \"emp3\" :{\"name\":\"Hrishikesh\",\"salary\":65000}\n",
    "}\n",
    "dict1['emp3'][\"salary\"] = 85000\n",
    "dict1"
   ]
  },
  {
   "cell_type": "markdown",
   "metadata": {},
   "source": [
    "Result = {'emp1': {'name': 'Jay', 'salary': 75000}, 'emp2': {'name': 'Akshay', 'salary': 80000}, 'emp3': {'name': 'Hrishikesh', 'salary': 85000}}"
   ]
  },
  {
   "cell_type": "code",
   "execution_count": null,
   "metadata": {},
   "outputs": [],
   "source": []
  },
  {
   "cell_type": "code",
   "execution_count": null,
   "metadata": {},
   "outputs": [],
   "source": []
  }
 ],
 "metadata": {
  "kernelspec": {
   "display_name": "Python 3",
   "language": "python",
   "name": "python3"
  },
  "language_info": {
   "codemirror_mode": {
    "name": "ipython",
    "version": 3
   },
   "file_extension": ".py",
   "mimetype": "text/x-python",
   "name": "python",
   "nbconvert_exporter": "python",
   "pygments_lexer": "ipython3",
   "version": "3.8.8"
  }
 },
 "nbformat": 4,
 "nbformat_minor": 4
}
