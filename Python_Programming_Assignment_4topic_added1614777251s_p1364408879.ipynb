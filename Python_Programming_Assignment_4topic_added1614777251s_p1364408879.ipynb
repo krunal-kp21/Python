{
 "cells": [
  {
   "cell_type": "markdown",
   "metadata": {},
   "source": [
    "Q1 : Take values of length and breadth of a rectangle from user and check if it is square or not.\n"
   ]
  },
  {
   "cell_type": "code",
   "execution_count": 2,
   "metadata": {},
   "outputs": [
    {
     "name": "stdout",
     "output_type": "stream",
     "text": [
      "Enter the Length\n",
      "2\n",
      "Enter the breath\n",
      "4\n",
      "it is rectangular\n"
     ]
    }
   ],
   "source": [
    "print(\"Enter the Length\" )\n",
    "Length = input()\n",
    "print(\"Enter the breath\")\n",
    "Breath = input()\n",
    "if Length == Breath :\n",
    "    print(\"Yes it is square\")\n",
    "else:\n",
    "    print(\"it is rectangular\")\n"
   ]
  },
  {
   "cell_type": "markdown",
   "metadata": {},
   "source": [
    "Q2 : Take Input of 3 numbers and find maximum of them."
   ]
  },
  {
   "cell_type": "code",
   "execution_count": 5,
   "metadata": {},
   "outputs": [
    {
     "name": "stdout",
     "output_type": "stream",
     "text": [
      "4\n",
      "8\n",
      "10\n",
      "Maximum Number is  10.0\n"
     ]
    }
   ],
   "source": [
    "a = float(input())\n",
    "b = float(input())\n",
    "c = float(input())\n",
    "\n",
    "print(\"Maximum Number is \",max(a,b,c))"
   ]
  },
  {
   "cell_type": "markdown",
   "metadata": {},
   "source": [
    "Q3 : Find the year is leap year or not."
   ]
  },
  {
   "cell_type": "code",
   "execution_count": 1,
   "metadata": {},
   "outputs": [
    {
     "name": "stdout",
     "output_type": "stream",
     "text": [
      "Enter the year 2500\n",
      "No Leap year\n"
     ]
    }
   ],
   "source": [
    "Year = int(input(\"Enter the year \"))\n",
    "if Year % 4 :\n",
    "    print(\"No Leap year\")\n",
    "elif Year % 100 == 0 and Year % 400 != 0:\n",
    "    print(\"No Leap year\")\n",
    "else:\n",
    "    print(\"Leap year\")"
   ]
  },
  {
   "cell_type": "markdown",
   "metadata": {},
   "source": [
    "Q4 : Print First 10 natural numbers using while loop."
   ]
  },
  {
   "cell_type": "code",
   "execution_count": 6,
   "metadata": {},
   "outputs": [
    {
     "name": "stdout",
     "output_type": "stream",
     "text": [
      "1\n",
      "2\n",
      "3\n",
      "4\n",
      "5\n",
      "6\n",
      "7\n",
      "8\n",
      "9\n",
      "10\n"
     ]
    }
   ],
   "source": [
    "i = 1\n",
    "while i <=10:\n",
    "    print(i)\n",
    "    i = i +1\n",
    "    "
   ]
  },
  {
   "cell_type": "markdown",
   "metadata": {},
   "source": [
    "Q5 : Print the following pattern.\n",
    "\n",
    "1 \n",
    "\n",
    "1 2 \n",
    "\n",
    "1 2 3 \n",
    "\n",
    "1 2 3 4 \n",
    "\n",
    "1 2 3 4 5"
   ]
  },
  {
   "cell_type": "code",
   "execution_count": 11,
   "metadata": {},
   "outputs": [
    {
     "name": "stdout",
     "output_type": "stream",
     "text": [
      "1 \n",
      "1 2 \n",
      "1 2 3 \n",
      "1 2 3 4 \n",
      "1 2 3 4 5 \n"
     ]
    }
   ],
   "source": [
    "lastnumber = 6\n",
    "for row in range(1,lastnumber):\n",
    "    for column in range(1,row + 1):\n",
    "        print(column,end=\" \")\n",
    "    print(\"\")"
   ]
  },
  {
   "cell_type": "markdown",
   "metadata": {},
   "source": [
    "Q6 : Print the following pattern.\n",
    "\n",
    "+\n",
    "\n",
    "++\n",
    "\n",
    "+++\n",
    "\n",
    "++++\n",
    "\n",
    "+++++\n",
    "\n",
    "++++\n",
    "\n",
    "+++\n",
    "\n",
    "++\n",
    "\n",
    "+"
   ]
  },
  {
   "cell_type": "code",
   "execution_count": 15,
   "metadata": {},
   "outputs": [
    {
     "name": "stdout",
     "output_type": "stream",
     "text": [
      "+ \n",
      "+ + \n",
      "+ + + \n",
      "+ + + + \n",
      "+ + + + + \n",
      "+ + + + \n",
      "+ + + \n",
      "+ + \n",
      "+ \n",
      "\n"
     ]
    }
   ],
   "source": [
    "row = 5\n",
    "for i in range(0,row):\n",
    "    for j in range(0,i+1):\n",
    "        print(\"+\",end = \" \")\n",
    "    print(\"\")\n",
    "    \n",
    "for i in range(row,0,-1):\n",
    "    for j in range(0,i-1):\n",
    "        print(\"+\",end=\" \")\n",
    "    print(\"\")"
   ]
  },
  {
   "cell_type": "markdown",
   "metadata": {},
   "source": [
    "Q7 : Find the sum of the series 1 + 11 + 111 + 1111 + .. n terms. (take input of n from User)"
   ]
  },
  {
   "cell_type": "code",
   "execution_count": 24,
   "metadata": {},
   "outputs": [
    {
     "name": "stdout",
     "output_type": "stream",
     "text": [
      "Number of terms8\n",
      "1 11 111 1111 11111 111111 1111111 11111111 \n",
      " sum of above series is  12345678\n"
     ]
    }
   ],
   "source": [
    "x = int(input(\"Number of terms\"))\n",
    "start = 1\n",
    "sum = 0\n",
    "for i in range(0,x):\n",
    "    print(start,end=\" \")\n",
    "    sum += start\n",
    "    start = (start * 10) +1\n",
    "print(\"\\n sum of above series is \",sum)"
   ]
  },
  {
   "cell_type": "markdown",
   "metadata": {},
   "source": [
    "Q8 : Display the cube of the number up to a given integer specified by user."
   ]
  },
  {
   "cell_type": "code",
   "execution_count": 25,
   "metadata": {},
   "outputs": [
    {
     "name": "stdout",
     "output_type": "stream",
     "text": [
      "Given number is 5\n",
      "Current Number is: 1 and cube is : 1\n",
      "Current Number is: 2 and cube is : 8\n",
      "Current Number is: 3 and cube is : 27\n",
      "Current Number is: 4 and cube is : 64\n",
      "Current Number is: 5 and cube is : 125\n"
     ]
    }
   ],
   "source": [
    "x = int(input(\"Given number is \"))\n",
    "for i in range(1,x + 1):\n",
    "    print(\"Current Number is:\",i ,\"and cube is :\",(i*i*i))\n",
    "    "
   ]
  },
  {
   "cell_type": "markdown",
   "metadata": {},
   "source": [
    "Q9 : Use a loop to display elements from a given list which are present at even positions.\n",
    "\n",
    "List = [1,2,3,4,5,6,7,8,9,0]"
   ]
  },
  {
   "cell_type": "code",
   "execution_count": 30,
   "metadata": {},
   "outputs": [
    {
     "name": "stdout",
     "output_type": "stream",
     "text": [
      "2 4 6 8 0 "
     ]
    }
   ],
   "source": [
    "List = [1,2,3,4,5,6,7,8,9,0]\n",
    "for i in List[1::2]:\n",
    "    print(i,end=\" \")"
   ]
  },
  {
   "cell_type": "markdown",
   "metadata": {},
   "source": [
    "\n",
    "Q10 : Reverse a user defined integer number."
   ]
  },
  {
   "cell_type": "code",
   "execution_count": 31,
   "metadata": {},
   "outputs": [
    {
     "name": "stdout",
     "output_type": "stream",
     "text": [
      "Value of Number is : 12345\n",
      "Given Number :  12345\n",
      "Revered Number :  54321\n"
     ]
    }
   ],
   "source": [
    "num = int(input(\"Value of Number is : \"))\n",
    "reverse_number = 0\n",
    "print(\"Given Number : \", num)\n",
    "while num > 0:\n",
    "    reminder = num % 10\n",
    "    reverse_number = (reverse_number * 10) + reminder\n",
    "    num = num // 10\n",
    "print(\"Revered Number : \", reverse_number)"
   ]
  },
  {
   "cell_type": "code",
   "execution_count": null,
   "metadata": {},
   "outputs": [],
   "source": []
  }
 ],
 "metadata": {
  "kernelspec": {
   "display_name": "Python 3",
   "language": "python",
   "name": "python3"
  },
  "language_info": {
   "codemirror_mode": {
    "name": "ipython",
    "version": 3
   },
   "file_extension": ".py",
   "mimetype": "text/x-python",
   "name": "python",
   "nbconvert_exporter": "python",
   "pygments_lexer": "ipython3",
   "version": "3.8.8"
  }
 },
 "nbformat": 4,
 "nbformat_minor": 4
}
