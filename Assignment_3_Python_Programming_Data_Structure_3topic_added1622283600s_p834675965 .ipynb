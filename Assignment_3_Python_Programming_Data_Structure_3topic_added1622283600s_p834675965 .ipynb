{
 "cells": [
  {
   "cell_type": "markdown",
   "metadata": {},
   "source": [
    "Q1 : Create a list containing the Address of Fingertips."
   ]
  },
  {
   "cell_type": "code",
   "execution_count": 1,
   "metadata": {},
   "outputs": [
    {
     "data": {
      "text/plain": [
       "[201,\n",
       " 'Olive Arcade',\n",
       " 'Chimanlal Girdharlal Rd',\n",
       " 'opp. Samudra Complex',\n",
       " 'Navrangpura',\n",
       " 'Ahmedabad',\n",
       " 'Gujarat']"
      ]
     },
     "execution_count": 1,
     "metadata": {},
     "output_type": "execute_result"
    }
   ],
   "source": [
    "add = [201, \"Olive Arcade\", \"Chimanlal Girdharlal Rd\", \"opp. Samudra Complex\", \"Navrangpura\", \"Ahmedabad\", \"Gujarat\",]\n",
    "add"
   ]
  },
  {
   "cell_type": "markdown",
   "metadata": {},
   "source": [
    "Q2 : insert ABCD at 5th place in the address."
   ]
  },
  {
   "cell_type": "code",
   "execution_count": 2,
   "metadata": {},
   "outputs": [
    {
     "data": {
      "text/plain": [
       "[201,\n",
       " 'Olive Arcade',\n",
       " 'Chimanlal Girdharlal Rd',\n",
       " 'opp. Samudra Complex',\n",
       " 'ABCD',\n",
       " 'Navrangpura',\n",
       " 'Ahmedabad',\n",
       " 'Gujarat']"
      ]
     },
     "execution_count": 2,
     "metadata": {},
     "output_type": "execute_result"
    }
   ],
   "source": [
    "add.insert(4,\"ABCD\")\n",
    "add"
   ]
  },
  {
   "cell_type": "markdown",
   "metadata": {},
   "source": [
    "Q3 : create a list L1 containing XYZ, ABC, GHI and append it at the beginning of address list."
   ]
  },
  {
   "cell_type": "code",
   "execution_count": 8,
   "metadata": {},
   "outputs": [
    {
     "data": {
      "text/plain": [
       "['XYZ',\n",
       " 'ABC',\n",
       " 'GHI',\n",
       " 201,\n",
       " 'Olive Arcade',\n",
       " 'Chimanlal Girdharlal Rd',\n",
       " 'opp. Samudra Complex',\n",
       " 'ABCD',\n",
       " 'Navrangpura',\n",
       " 'Ahmedabad',\n",
       " 'Gujarat']"
      ]
     },
     "execution_count": 8,
     "metadata": {},
     "output_type": "execute_result"
    }
   ],
   "source": [
    "L1 = [\"XYZ\", \"ABC\", \"GHI\"]\n",
    "L1.extend(add)\n",
    "L1"
   ]
  },
  {
   "cell_type": "markdown",
   "metadata": {},
   "source": [
    "O4 : Find the minimum value from the list containing the numbers 2.3, 4.445, 3, 5.33, 1.054, 2.5."
   ]
  },
  {
   "cell_type": "code",
   "execution_count": 9,
   "metadata": {},
   "outputs": [
    {
     "name": "stdout",
     "output_type": "stream",
     "text": [
      "1.054\n"
     ]
    }
   ],
   "source": [
    "List = [2.3, 4.445, 3, 5.33, 1.054, 2.5] \n",
    "print(min(List))"
   ]
  },
  {
   "cell_type": "markdown",
   "metadata": {},
   "source": [
    "Q5 : Sort the given data structure (both tuple and list) in decending order containing values 2.3, 4.445, 3, 5.33, 1.054, 2.5. "
   ]
  },
  {
   "cell_type": "code",
   "execution_count": 10,
   "metadata": {},
   "outputs": [
    {
     "name": "stdout",
     "output_type": "stream",
     "text": [
      "[5.33, 4.445, 3, 2.5, 2.3, 1.054]\n"
     ]
    }
   ],
   "source": [
    "List = [2.3, 4.445, 3, 5.33, 1.054, 2.5]\n",
    "List.sort(reverse=True)\n",
    "print(List) "
   ]
  },
  {
   "cell_type": "markdown",
   "metadata": {},
   "source": [
    "Q6 : Create a list which contains the numbers 1,2,4,8,5,3,5,7,4,1,2,6,6,8,2,6. and now find the occurance of the 6 in the list."
   ]
  },
  {
   "cell_type": "code",
   "execution_count": 11,
   "metadata": {},
   "outputs": [
    {
     "data": {
      "text/plain": [
       "3"
      ]
     },
     "execution_count": 11,
     "metadata": {},
     "output_type": "execute_result"
    }
   ],
   "source": [
    "List = [1,2,4,8,5,3,5,7,4,1,2,6,6,8,2,6]\n",
    "List.count(6)"
   ]
  },
  {
   "cell_type": "markdown",
   "metadata": {},
   "source": [
    "Q7 : print the index of the first occurrence of number 5 in the above list. "
   ]
  },
  {
   "cell_type": "code",
   "execution_count": 12,
   "metadata": {},
   "outputs": [
    {
     "data": {
      "text/plain": [
       "4"
      ]
     },
     "execution_count": 12,
     "metadata": {},
     "output_type": "execute_result"
    }
   ],
   "source": [
    "List.index(5)"
   ]
  },
  {
   "cell_type": "markdown",
   "metadata": {},
   "source": [
    "Q8 : Sort the above list in ascending order."
   ]
  },
  {
   "cell_type": "code",
   "execution_count": 14,
   "metadata": {},
   "outputs": [
    {
     "data": {
      "text/plain": [
       "[1, 1, 2, 2, 2, 3, 4, 4, 5, 5, 6, 6, 6, 7, 8, 8]"
      ]
     },
     "execution_count": 14,
     "metadata": {},
     "output_type": "execute_result"
    }
   ],
   "source": [
    "List.sort()\n",
    "List"
   ]
  },
  {
   "cell_type": "markdown",
   "metadata": {},
   "source": [
    "Q9 : Create a tuple having values abc,bcd,cde,def and efg and convert it to List."
   ]
  },
  {
   "cell_type": "code",
   "execution_count": 15,
   "metadata": {},
   "outputs": [
    {
     "data": {
      "text/plain": [
       "['abc', 'bcd', 'cde', 'def', 'efg']"
      ]
     },
     "execution_count": 15,
     "metadata": {},
     "output_type": "execute_result"
    }
   ],
   "source": [
    "tup = (\"abc\",\"bcd\",\"cde\",\"def\",\"efg\")\n",
    "TtoL = list(tup)\n",
    "TtoL"
   ]
  },
  {
   "cell_type": "markdown",
   "metadata": {},
   "source": [
    "Q10 : Convert a set having values efg,def,cde,bcd and abc to list and sort the list in ascending order."
   ]
  },
  {
   "cell_type": "code",
   "execution_count": 16,
   "metadata": {},
   "outputs": [
    {
     "data": {
      "text/plain": [
       "['abc', 'bcd', 'cde', 'def', 'efg']"
      ]
     },
     "execution_count": 16,
     "metadata": {},
     "output_type": "execute_result"
    }
   ],
   "source": [
    "Set = {\"efg\",\"def\",\"cde\",\"bcd\",\"abc\"}\n",
    "StoL = list(Set)\n",
    "StoL.sort()\n",
    "StoL"
   ]
  },
  {
   "cell_type": "code",
   "execution_count": null,
   "metadata": {},
   "outputs": [],
   "source": []
  }
 ],
 "metadata": {
  "kernelspec": {
   "display_name": "Python 3",
   "language": "python",
   "name": "python3"
  },
  "language_info": {
   "codemirror_mode": {
    "name": "ipython",
    "version": 3
   },
   "file_extension": ".py",
   "mimetype": "text/x-python",
   "name": "python",
   "nbconvert_exporter": "python",
   "pygments_lexer": "ipython3",
   "version": "3.8.8"
  }
 },
 "nbformat": 4,
 "nbformat_minor": 4
}
