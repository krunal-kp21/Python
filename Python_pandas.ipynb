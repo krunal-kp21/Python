{
 "cells": [
  {
   "cell_type": "markdown",
   "metadata": {},
   "source": [
    "1. Add, subtract, multiple and divide two series of Pandas.\n",
    "\n",
    "Series1: [2, 4, 6, 8, 10]\n",
    "series2: [1,2,3,4,5]"
   ]
  },
  {
   "cell_type": "code",
   "execution_count": 3,
   "metadata": {},
   "outputs": [],
   "source": [
    "import pandas as pd"
   ]
  },
  {
   "cell_type": "code",
   "execution_count": 5,
   "metadata": {},
   "outputs": [
    {
     "name": "stdout",
     "output_type": "stream",
     "text": [
      "0     3\n",
      "1     6\n",
      "2     9\n",
      "3    12\n",
      "4    15\n",
      "dtype: int64\n",
      "0    0\n",
      "1    2\n",
      "2    4\n",
      "3    6\n",
      "4    8\n",
      "dtype: int64\n",
      "0     4\n",
      "1     8\n",
      "2    12\n",
      "3    16\n",
      "4    20\n",
      "dtype: int64\n",
      "0    2.0\n",
      "1    2.0\n",
      "2    2.0\n",
      "3    2.0\n",
      "4    2.0\n",
      "dtype: float64\n"
     ]
    }
   ],
   "source": [
    "s1 = pd.Series([2, 4, 6, 8, 10])\n",
    "s2 = pd.Series([1,2,3,4,5])\n",
    "\n",
    "print(s1+s2)\n",
    "print(s1-2)\n",
    "print(s1*2)\n",
    "print(s1/s2)\n"
   ]
  },
  {
   "cell_type": "code",
   "execution_count": null,
   "metadata": {},
   "outputs": [],
   "source": [
    "2.  compare the elements of the two Pandas Series.\n",
    "\n",
    "Series1: [2, 4, 6, 8, 10]\n",
    "series2: [1,2,3,4,5]"
   ]
  },
  {
   "cell_type": "code",
   "execution_count": 3,
   "metadata": {},
   "outputs": [
    {
     "data": {
      "text/plain": [
       "0    False\n",
       "1    False\n",
       "2    False\n",
       "3    False\n",
       "4    False\n",
       "dtype: bool"
      ]
     },
     "execution_count": 3,
     "metadata": {},
     "output_type": "execute_result"
    }
   ],
   "source": [
    "s1 = pd.Series([2, 4, 6, 8, 10])\n",
    "s2 = pd.Series([1,2,3,4,5])\n",
    "\n",
    "s1==s2"
   ]
  },
  {
   "cell_type": "code",
   "execution_count": null,
   "metadata": {},
   "outputs": [],
   "source": [
    "3.convert a dictionary to a Pandas series.\n",
    "Sample dictionary: d1 = {'A': 5, 'B': 10, 'C':15, 'D':20, 'E':25}"
   ]
  },
  {
   "cell_type": "code",
   "execution_count": 5,
   "metadata": {},
   "outputs": [
    {
     "name": "stdout",
     "output_type": "stream",
     "text": [
      "{'A': 5, 'B': 10, 'C': 15, 'D': 20, 'E': 25}\n"
     ]
    },
    {
     "data": {
      "text/plain": [
       "A     5\n",
       "B    10\n",
       "C    15\n",
       "D    20\n",
       "E    25\n",
       "dtype: int64"
      ]
     },
     "execution_count": 5,
     "metadata": {},
     "output_type": "execute_result"
    }
   ],
   "source": [
    "d = {'A': 5, 'B': 10, 'C':15, 'D':20, 'E':25}\n",
    "print(d)\n",
    "series = pd.Series(d)\n",
    "series"
   ]
  },
  {
   "cell_type": "code",
   "execution_count": null,
   "metadata": {},
   "outputs": [],
   "source": [
    "4.  convert a NumPy array to a Pandas series.\n",
    "\n",
    "\n",
    "Sample NumPy array: d1 = [10,15,20,25,30]"
   ]
  },
  {
   "cell_type": "code",
   "execution_count": 6,
   "metadata": {},
   "outputs": [
    {
     "name": "stdout",
     "output_type": "stream",
     "text": [
      "[10 15 20 25 30]\n"
     ]
    },
    {
     "data": {
      "text/plain": [
       "0    10\n",
       "1    15\n",
       "2    20\n",
       "3    25\n",
       "4    30\n",
       "dtype: int32"
      ]
     },
     "execution_count": 6,
     "metadata": {},
     "output_type": "execute_result"
    }
   ],
   "source": [
    "import numpy as np\n",
    "\n",
    "np_array = np.array([10,15,20,25,30])\n",
    "print(np_array)\n",
    "\n",
    "series = pd.Series(np_array)\n",
    "series"
   ]
  },
  {
   "cell_type": "code",
   "execution_count": null,
   "metadata": {},
   "outputs": [],
   "source": [
    "5. create a sereis then  add some data to an existing Series."
   ]
  },
  {
   "cell_type": "code",
   "execution_count": null,
   "metadata": {},
   "outputs": [],
   "source": [
    "*hint S.append()"
   ]
  },
  {
   "cell_type": "code",
   "execution_count": null,
   "metadata": {},
   "outputs": [],
   "source": [
    "6. Find the mean and standard deviation of a given Series. \n",
    "\n",
    "series = [1,2,2,3,4,6,5,7,8,4,2,3,6,8,9,8]"
   ]
  },
  {
   "cell_type": "code",
   "execution_count": 7,
   "metadata": {},
   "outputs": [
    {
     "name": "stdout",
     "output_type": "stream",
     "text": [
      "4.875\n",
      "2.6044833140823407\n"
     ]
    }
   ],
   "source": [
    "import pandas as pd\n",
    "s = pd.Series(data = [1,2,2,3,4,6,5,7,8,4,2,3,6,8,9,8])\n",
    "\n",
    "print(s.mean())\n",
    "print(s.std())\n"
   ]
  },
  {
   "cell_type": "code",
   "execution_count": null,
   "metadata": {},
   "outputs": [],
   "source": [
    "7.  create and display a DataFrame from a specified dictionary data which has the index labels.\n",
    "\n",
    "DataFrame:\n",
    "    \n",
    "student  = {'Name': ['smith', 'dona', 'Katherine', 'john', 'roman', 'ross', 'Matthew', 'joey', 'monica', 'rachel'],\n",
    "'Grade': [9, 9, 8.3, 7.3, 4, 5, 6.5, 7.9, 7.5, 8.5],\n",
    "'Country': ['USA', 'USA', 'AUS', 'USA', 'AUS', 'USA', 'Can', 'AUS', 'Can', 'yes'],\n",
    "'eligibility': ['eligible', 'eligible', 'Not eligible', 'Not eligible', 'eligible','eligible', 'eligible', 'eligible', 'Not eligible', 'Not eligible']          \n",
    "           }\n",
    "labels = ['A', 'B', 'C', 'D', 'E', 'F', 'G', 'H', 'I', 'J']"
   ]
  },
  {
   "cell_type": "code",
   "execution_count": 30,
   "metadata": {},
   "outputs": [
    {
     "name": "stdout",
     "output_type": "stream",
     "text": [
      "        Name  Grade Country   eligibility\n",
      "A      smith    9.0     USA      eligible\n",
      "B       dona    9.0     USA      eligible\n",
      "C  Katherine    8.3     AUS  Not eligible\n",
      "D       john    7.3     USA  Not eligible\n",
      "E      roman    4.0     AUS      eligible\n",
      "F       ross    5.0     USA      eligible\n",
      "G    Matthew    6.5     Can      eligible\n",
      "H       joey    7.9     AUS      eligible\n",
      "I     monica    7.5     Can  Not eligible\n",
      "J     rachel    8.5     yes  Not eligible\n"
     ]
    }
   ],
   "source": [
    "import pandas as pd\n",
    "import numpy as np\n",
    "\n",
    "student  = {'Name': ['smith', 'dona', 'Katherine', 'john', 'roman', 'ross', 'Matthew', 'joey', 'monica', 'rachel'],\n",
    "'Grade': [9, 9, 8.3, 7.3, 4, 5, 6.5, 7.9, 7.5, 8.5],\n",
    "'Country': ['USA', 'USA', 'AUS', 'USA', 'AUS', 'USA', 'Can', 'AUS', 'Can', 'yes'],\n",
    "'eligibility': ['eligible', 'eligible', 'Not eligible', 'Not eligible', 'eligible','eligible', 'eligible', 'eligible', 'Not eligible', 'Not eligible']          \n",
    "           }\n",
    "labels = ['A', 'B', 'C', 'D', 'E', 'F', 'G', 'H', 'I', 'J']\n",
    "\n",
    "df = pd.DataFrame(student , index=labels)\n",
    "print(df)"
   ]
  },
  {
   "cell_type": "code",
   "execution_count": null,
   "metadata": {},
   "outputs": [],
   "source": [
    "8.  select the 'name' and 'Grade' columns from Student dataframe (Q.7 dataframe)\n"
   ]
  },
  {
   "cell_type": "code",
   "execution_count": 23,
   "metadata": {},
   "outputs": [
    {
     "name": "stdout",
     "output_type": "stream",
     "text": [
      "        Name  Grade\n",
      "A      smith    9.0\n",
      "B       dona    9.0\n",
      "C  Katherine    8.3\n",
      "D       john    7.3\n",
      "E      roman    4.0\n",
      "F       ross    5.0\n",
      "G    Matthew    6.5\n",
      "H       joey    7.9\n",
      "I     monica    7.5\n",
      "J     rachel    8.5\n"
     ]
    }
   ],
   "source": [
    "print(df[['Name', 'Grade']])"
   ]
  },
  {
   "cell_type": "code",
   "execution_count": null,
   "metadata": {},
   "outputs": [],
   "source": [
    "9. get the first 3 rows from Student dataframe (Q.7 dataframe)\n",
    "\n",
    "\n"
   ]
  },
  {
   "cell_type": "code",
   "execution_count": 24,
   "metadata": {},
   "outputs": [
    {
     "name": "stdout",
     "output_type": "stream",
     "text": [
      "        Name  Grade Country eligibility\n",
      "A      smith    9.0     USA         yes\n",
      "B       dona    9.0     USA         yes\n",
      "C  Katherine    8.3     AUS         yes\n"
     ]
    }
   ],
   "source": [
    "\n",
    "print(df.iloc[:3])"
   ]
  },
  {
   "cell_type": "code",
   "execution_count": null,
   "metadata": {},
   "outputs": [],
   "source": [
    "10.select the rows where the number of Grade is greater than 8 from Student dataframe (Q.7 dataframe)\n",
    "\n"
   ]
  },
  {
   "cell_type": "code",
   "execution_count": 31,
   "metadata": {},
   "outputs": [
    {
     "name": "stdout",
     "output_type": "stream",
     "text": [
      "        Name  Grade Country   eligibility\n",
      "A      smith    9.0     USA      eligible\n",
      "B       dona    9.0     USA      eligible\n",
      "C  Katherine    8.3     AUS  Not eligible\n",
      "J     rachel    8.5     yes  Not eligible\n"
     ]
    }
   ],
   "source": [
    "\n",
    "\n",
    "print(df[df['Grade'] > 8])\n"
   ]
  },
  {
   "cell_type": "code",
   "execution_count": null,
   "metadata": {},
   "outputs": [],
   "source": [
    "11. change the Grade in row D to 8.6. from Student dataframe (Q.7 dataframe)\n",
    "\n"
   ]
  },
  {
   "cell_type": "code",
   "execution_count": 32,
   "metadata": {},
   "outputs": [
    {
     "name": "stdout",
     "output_type": "stream",
     "text": [
      "        Name  Grade Country   eligibility\n",
      "A      smith    9.0     USA      eligible\n",
      "B       dona    9.0     USA      eligible\n",
      "C  Katherine    8.3     AUS  Not eligible\n",
      "D       john    8.6     USA  Not eligible\n",
      "E      roman    4.0     AUS      eligible\n",
      "F       ross    5.0     USA      eligible\n",
      "G    Matthew    6.5     Can      eligible\n",
      "H       joey    7.9     AUS      eligible\n",
      "I     monica    7.5     Can  Not eligible\n",
      "J     rachel    8.5     yes  Not eligible\n"
     ]
    }
   ],
   "source": [
    "\n",
    "df.loc['D', 'Grade'] = 8.6\n",
    "print(df)"
   ]
  },
  {
   "cell_type": "code",
   "execution_count": null,
   "metadata": {},
   "outputs": [],
   "source": [
    "12. calculate the sum of Grade by the students. from Student dataframe (Q.7 dataframe)\n",
    "\n"
   ]
  },
  {
   "cell_type": "code",
   "execution_count": 27,
   "metadata": {},
   "outputs": [
    {
     "name": "stdout",
     "output_type": "stream",
     "text": [
      "74.3\n"
     ]
    }
   ],
   "source": [
    "\n",
    "print(df['Grade'].sum())"
   ]
  },
  {
   "cell_type": "code",
   "execution_count": null,
   "metadata": {},
   "outputs": [],
   "source": [
    "13.  calculate the mean Grade for each different student in data frame.\n",
    "\n"
   ]
  },
  {
   "cell_type": "code",
   "execution_count": 28,
   "metadata": {},
   "outputs": [
    {
     "name": "stdout",
     "output_type": "stream",
     "text": [
      "7.43\n"
     ]
    }
   ],
   "source": [
    "\n",
    "print(df['Grade'].mean())"
   ]
  },
  {
   "cell_type": "code",
   "execution_count": null,
   "metadata": {},
   "outputs": [],
   "source": [
    "14.  sort the data frame first by 'Name' in descending order, then by 'Grade' in ascending order.\n",
    "\n"
   ]
  },
  {
   "cell_type": "code",
   "execution_count": 33,
   "metadata": {},
   "outputs": [
    {
     "name": "stdout",
     "output_type": "stream",
     "text": [
      "        Name  Grade Country   eligibility\n",
      "A      smith    9.0     USA      eligible\n",
      "B       dona    9.0     USA      eligible\n",
      "C  Katherine    8.3     AUS  Not eligible\n",
      "D       john    8.6     USA  Not eligible\n",
      "E      roman    4.0     AUS      eligible\n",
      "F       ross    5.0     USA      eligible\n",
      "G    Matthew    6.5     Can      eligible\n",
      "H       joey    7.9     AUS      eligible\n",
      "I     monica    7.5     Can  Not eligible\n",
      "J     rachel    8.5     yes  Not eligible\n"
     ]
    }
   ],
   "source": [
    "\n",
    "df.sort_values(by=['Name', 'Grade'], ascending=[False, True])\n",
    "print(df)"
   ]
  },
  {
   "cell_type": "code",
   "execution_count": null,
   "metadata": {},
   "outputs": [],
   "source": [
    "15.replace the eligibility column contains the values 'eligibility' and 'Not eligible' with YES and NO.\n",
    "\n"
   ]
  },
  {
   "cell_type": "code",
   "execution_count": 34,
   "metadata": {},
   "outputs": [
    {
     "name": "stdout",
     "output_type": "stream",
     "text": [
      "        Name  Grade Country eligibility\n",
      "A      smith    9.0     USA         YES\n",
      "B       dona    9.0     USA         YES\n",
      "C  Katherine    8.3     AUS          NO\n",
      "D       john    8.6     USA          NO\n",
      "E      roman    4.0     AUS         YES\n",
      "F       ross    5.0     USA         YES\n",
      "G    Matthew    6.5     Can         YES\n",
      "H       joey    7.9     AUS         YES\n",
      "I     monica    7.5     Can          NO\n",
      "J     rachel    8.5     yes          NO\n"
     ]
    }
   ],
   "source": [
    "\n",
    "df['eligibility'] = df['eligibility'].map({'eligible': 'YES', 'Not eligible': 'NO'})\n",
    "print(df)"
   ]
  },
  {
   "cell_type": "code",
   "execution_count": null,
   "metadata": {},
   "outputs": [],
   "source": [
    "16. join the two given dataframes along rows and assign all data.\n",
    "\n",
    "Test Data:\n",
    "\n",
    "emp_1:\n",
    "  emp_id     name           Salary\n",
    "0   1        Same            13222\n",
    "1   2        Ross            10300\n",
    "2   3        Mike            19000\n",
    "3   4        Roman           22332\n",
    "4   5        Smith           19900\n",
    "\n",
    "\n",
    "emp_2:\n",
    "  emp_id    name          Salary\n",
    "0    6      Scarlette     12201\n",
    "1    7      Williamson    23200\n",
    "2    8      Morse         13198\n",
    "3    9      Kaiser        11219\n",
    "4    10     Preston       10201"
   ]
  },
  {
   "cell_type": "code",
   "execution_count": 39,
   "metadata": {},
   "outputs": [
    {
     "name": "stdout",
     "output_type": "stream",
     "text": [
      "Original Data\n",
      "   emp_id   name  Salary\n",
      "0       1   Same   13222\n",
      "1       2   Ross   10300\n",
      "2       3   Mike   19000\n",
      "3       4  Roman   22332\n",
      "4       5  Smith   19900\n",
      "-------------------------------------\n",
      "   emp_id        name  Salary\n",
      "0       6   Scarlette   12201\n",
      "1       7  Williamson   23200\n",
      "2       8       Morse   13198\n",
      "3       9      Kaiser   11219\n",
      "4      10     Preston   10201\n",
      "\n",
      "Join two dataframes along rows:\n",
      "   emp_id        name  Salary\n",
      "0       1        Same   13222\n",
      "1       2        Ross   10300\n",
      "2       3        Mike   19000\n",
      "3       4       Roman   22332\n",
      "4       5       Smith   19900\n",
      "0       6   Scarlette   12201\n",
      "1       7  Williamson   23200\n",
      "2       8       Morse   13198\n",
      "3       9      Kaiser   11219\n",
      "4      10     Preston   10201\n"
     ]
    }
   ],
   "source": [
    "\n",
    "emp_1 = pd.DataFrame({\n",
    "        'emp_id': [1, 2, 3, 4, 5],\n",
    "         'name': ['Same','Ross', 'Mike','Roman','Smith',], \n",
    "        'Salary': [13222, 10300, 19000, 22332, 19900]})\n",
    "\n",
    "emp_2 = pd.DataFrame({\n",
    "        'emp_id': [6,7,8,9,10],\n",
    "        'name': ['Scarlette', 'Williamson', 'Morse', 'Kaiser', 'Preston'], \n",
    "        'Salary': [12201, 23200, 13198, 11219, 10201]})\n",
    "\n",
    "print(\"Original Data\")\n",
    "print(emp_1)\n",
    "print(\"-------------------------------------\")\n",
    "print(emp_2)\n",
    "print(\"\\nJoin two dataframes along rows:\")\n",
    "result_data = pd.concat([emp_1, emp_2])\n",
    "print(result_data)"
   ]
  },
  {
   "cell_type": "code",
   "execution_count": null,
   "metadata": {},
   "outputs": [],
   "source": [
    "17. Write a Pandas program to append given rows to an existing DataFrame emp_1 and display the combined data.\n",
    "\n",
    "data:\n",
    "emp_id                  12\n",
    "name                   mike\n",
    "Salary                 349985\n"
   ]
  },
  {
   "cell_type": "code",
   "execution_count": 50,
   "metadata": {},
   "outputs": [
    {
     "data": {
      "text/html": [
       "<div>\n",
       "<style scoped>\n",
       "    .dataframe tbody tr th:only-of-type {\n",
       "        vertical-align: middle;\n",
       "    }\n",
       "\n",
       "    .dataframe tbody tr th {\n",
       "        vertical-align: top;\n",
       "    }\n",
       "\n",
       "    .dataframe thead th {\n",
       "        text-align: right;\n",
       "    }\n",
       "</style>\n",
       "<table border=\"1\" class=\"dataframe\">\n",
       "  <thead>\n",
       "    <tr style=\"text-align: right;\">\n",
       "      <th></th>\n",
       "      <th>emp_id</th>\n",
       "      <th>name</th>\n",
       "      <th>Salary</th>\n",
       "    </tr>\n",
       "  </thead>\n",
       "  <tbody>\n",
       "    <tr>\n",
       "      <th>0</th>\n",
       "      <td>1</td>\n",
       "      <td>Same</td>\n",
       "      <td>13222</td>\n",
       "    </tr>\n",
       "    <tr>\n",
       "      <th>1</th>\n",
       "      <td>2</td>\n",
       "      <td>Ross</td>\n",
       "      <td>10300</td>\n",
       "    </tr>\n",
       "    <tr>\n",
       "      <th>2</th>\n",
       "      <td>3</td>\n",
       "      <td>Mike</td>\n",
       "      <td>19000</td>\n",
       "    </tr>\n",
       "    <tr>\n",
       "      <th>3</th>\n",
       "      <td>4</td>\n",
       "      <td>Roman</td>\n",
       "      <td>22332</td>\n",
       "    </tr>\n",
       "    <tr>\n",
       "      <th>4</th>\n",
       "      <td>5</td>\n",
       "      <td>Smith</td>\n",
       "      <td>19900</td>\n",
       "    </tr>\n",
       "    <tr>\n",
       "      <th>5</th>\n",
       "      <td>12</td>\n",
       "      <td>Mike</td>\n",
       "      <td>349985</td>\n",
       "    </tr>\n",
       "  </tbody>\n",
       "</table>\n",
       "</div>"
      ],
      "text/plain": [
       "  emp_id   name  Salary\n",
       "0      1   Same   13222\n",
       "1      2   Ross   10300\n",
       "2      3   Mike   19000\n",
       "3      4  Roman   22332\n",
       "4      5  Smith   19900\n",
       "5     12   Mike  349985"
      ]
     },
     "execution_count": 50,
     "metadata": {},
     "output_type": "execute_result"
    }
   ],
   "source": [
    "s = pd.Series(['12', 'Mike', 349985], index=['emp_id', 'name', 'Salary'])\n",
    "combined_data =  emp_1.append(s, ignore_index=True, sort=False)\n",
    "combined_data"
   ]
  },
  {
   "cell_type": "code",
   "execution_count": null,
   "metadata": {},
   "outputs": [],
   "source": [
    "18. Write a Pandas program to append a list of dictioneries  existing DataFrame Emp_2 and display the combined data.\n",
    "\n",
    "\n",
    "Dictionary:\n",
    "\n",
    "emp_id                  11\n",
    "name                   Luis\n",
    "Salary                 22356\n"
   ]
  },
  {
   "cell_type": "code",
   "execution_count": 54,
   "metadata": {},
   "outputs": [
    {
     "name": "stdout",
     "output_type": "stream",
     "text": [
      "   emp_id        name  Salary\n",
      "0       6   Scarlette   12201\n",
      "1       7  Williamson   23200\n",
      "2       8       Morse   13198\n",
      "3       9      Kaiser   11219\n",
      "4      10     Preston   10201\n"
     ]
    },
    {
     "data": {
      "text/html": [
       "<div>\n",
       "<style scoped>\n",
       "    .dataframe tbody tr th:only-of-type {\n",
       "        vertical-align: middle;\n",
       "    }\n",
       "\n",
       "    .dataframe tbody tr th {\n",
       "        vertical-align: top;\n",
       "    }\n",
       "\n",
       "    .dataframe thead th {\n",
       "        text-align: right;\n",
       "    }\n",
       "</style>\n",
       "<table border=\"1\" class=\"dataframe\">\n",
       "  <thead>\n",
       "    <tr style=\"text-align: right;\">\n",
       "      <th></th>\n",
       "      <th>emp_id</th>\n",
       "      <th>name</th>\n",
       "      <th>Salary</th>\n",
       "    </tr>\n",
       "  </thead>\n",
       "  <tbody>\n",
       "    <tr>\n",
       "      <th>0</th>\n",
       "      <td>6</td>\n",
       "      <td>Scarlette</td>\n",
       "      <td>12201</td>\n",
       "    </tr>\n",
       "    <tr>\n",
       "      <th>1</th>\n",
       "      <td>7</td>\n",
       "      <td>Williamson</td>\n",
       "      <td>23200</td>\n",
       "    </tr>\n",
       "    <tr>\n",
       "      <th>2</th>\n",
       "      <td>8</td>\n",
       "      <td>Morse</td>\n",
       "      <td>13198</td>\n",
       "    </tr>\n",
       "    <tr>\n",
       "      <th>3</th>\n",
       "      <td>9</td>\n",
       "      <td>Kaiser</td>\n",
       "      <td>11219</td>\n",
       "    </tr>\n",
       "    <tr>\n",
       "      <th>4</th>\n",
       "      <td>10</td>\n",
       "      <td>Preston</td>\n",
       "      <td>10201</td>\n",
       "    </tr>\n",
       "    <tr>\n",
       "      <th>5</th>\n",
       "      <td>11</td>\n",
       "      <td>Luis</td>\n",
       "      <td>22356</td>\n",
       "    </tr>\n",
       "  </tbody>\n",
       "</table>\n",
       "</div>"
      ],
      "text/plain": [
       "   emp_id        name  Salary\n",
       "0       6   Scarlette   12201\n",
       "1       7  Williamson   23200\n",
       "2       8       Morse   13198\n",
       "3       9      Kaiser   11219\n",
       "4      10     Preston   10201\n",
       "5      11        Luis   22356"
      ]
     },
     "execution_count": 54,
     "metadata": {},
     "output_type": "execute_result"
    }
   ],
   "source": [
    "\n",
    "\n",
    "dicts = [{'emp_id': 11, 'name': 'Luis', 'Salary': 22356},\n",
    "         ]\n",
    "\n",
    "print(emp_2)\n",
    "combined_data =  emp_2.append(dicts, ignore_index=True, sort=False)\n",
    "combined_data"
   ]
  },
  {
   "cell_type": "code",
   "execution_count": null,
   "metadata": {},
   "outputs": [],
   "source": [
    "19. Write a Pandas program to join the two dataframes using the common column of both dataframes.\n",
    "\n",
    "\n",
    "emp_1:\n",
    "  emp_id     name           Salary\n",
    "0   1        Same            13222\n",
    "1   2        Ross            10300\n",
    "2   3        Mike            19000\n",
    "3   4        Roman           22332\n",
    "4   5        Smith           19900\n",
    "\n",
    "\n",
    "emp_2:\n",
    "  emp_id    name          Salary\n",
    "0    4      Scarlette     12201\n",
    "1    5      Williamson    23200\n",
    "2    8      Morse         13198\n",
    "3    9      Kaiser        11219\n",
    "4    10     Preston       10201"
   ]
  },
  {
   "cell_type": "code",
   "execution_count": 60,
   "metadata": {},
   "outputs": [
    {
     "data": {
      "text/html": [
       "<div>\n",
       "<style scoped>\n",
       "    .dataframe tbody tr th:only-of-type {\n",
       "        vertical-align: middle;\n",
       "    }\n",
       "\n",
       "    .dataframe tbody tr th {\n",
       "        vertical-align: top;\n",
       "    }\n",
       "\n",
       "    .dataframe thead th {\n",
       "        text-align: right;\n",
       "    }\n",
       "</style>\n",
       "<table border=\"1\" class=\"dataframe\">\n",
       "  <thead>\n",
       "    <tr style=\"text-align: right;\">\n",
       "      <th></th>\n",
       "      <th>emp_id</th>\n",
       "      <th>name_x</th>\n",
       "      <th>Salary_x</th>\n",
       "      <th>name_y</th>\n",
       "      <th>Salary_y</th>\n",
       "    </tr>\n",
       "  </thead>\n",
       "  <tbody>\n",
       "    <tr>\n",
       "      <th>0</th>\n",
       "      <td>4</td>\n",
       "      <td>Roman</td>\n",
       "      <td>22332</td>\n",
       "      <td>Scarlette</td>\n",
       "      <td>12201</td>\n",
       "    </tr>\n",
       "    <tr>\n",
       "      <th>1</th>\n",
       "      <td>5</td>\n",
       "      <td>Smith</td>\n",
       "      <td>19900</td>\n",
       "      <td>Williamson</td>\n",
       "      <td>23200</td>\n",
       "    </tr>\n",
       "  </tbody>\n",
       "</table>\n",
       "</div>"
      ],
      "text/plain": [
       "   emp_id name_x  Salary_x      name_y  Salary_y\n",
       "0       4  Roman     22332   Scarlette     12201\n",
       "1       5  Smith     19900  Williamson     23200"
      ]
     },
     "execution_count": 60,
     "metadata": {},
     "output_type": "execute_result"
    }
   ],
   "source": [
    "emp_1 = pd.DataFrame({\n",
    "        'emp_id': [1, 2, 3, 4, 5],\n",
    "         'name': ['Same','Ross', 'Mike','Roman','Smith',], \n",
    "        'Salary': [13222, 10300, 19000, 22332, 19900]})\n",
    "\n",
    "emp_2 = pd.DataFrame({\n",
    "        'emp_id': [4,5,8,9,10],\n",
    "        'name': ['Scarlette', 'Williamson', 'Morse', 'Kaiser', 'Preston'], \n",
    "        'Salary': [12201, 23200, 13198, 11219, 10201]})\n",
    "\n",
    "\n",
    "merged_data = pd.merge(emp_1, emp_2, on='emp_id', how='inner')\n",
    "merged_data"
   ]
  },
  {
   "cell_type": "code",
   "execution_count": null,
   "metadata": {},
   "outputs": [],
   "source": [
    "20. Write a Pandas program to join (left join) the two dataframes using keys from left dataframe only.\n",
    "\n",
    "Data:\n",
    "    \n",
    "df1: \n",
    "Year    Week    Colour    Val1 \n",
    "2020       A       Red      50\n",
    "2020       B       Red      60\n",
    "2020       B     Black      70\n",
    "2020       C       Red      10\n",
    "2020       D     Green      20\n",
    "\n",
    "df2:\n",
    "Year    Week    Colour    Val2\n",
    "2020       A     Black      30\n",
    "2020       B     Black     100\n",
    "2020       C     Green      50\n",
    "2020       C       Red      20\n",
    "2020       D       Red      40\n",
    "\n"
   ]
  },
  {
   "cell_type": "code",
   "execution_count": 68,
   "metadata": {},
   "outputs": [
    {
     "name": "stdout",
     "output_type": "stream",
     "text": [
      "Original DataFrames:\n",
      "   Year Week Colour  Val1\n",
      "0  2020    A    Red    50\n",
      "1  2020    B    Red    60\n",
      "2  2020    B  Black    70\n",
      "3  2020    C    Red    10\n",
      "4  2020    D  Green    20\n",
      "--------------------\n",
      "   Year Week Colour  Val1\n",
      "0  2020    A  Black    30\n",
      "1  2020    B  Black   100\n",
      "2  2020    C  Green    50\n",
      "3  2020    C    Red    20\n",
      "4  2020    D    Red    40\n",
      "   Year_x Week Colour  Val1_x  Year_y  Val1_y\n",
      "0    2020    A    Red      50     NaN     NaN\n",
      "1    2020    B    Red      60     NaN     NaN\n",
      "2    2020    B  Black      70  2020.0   100.0\n",
      "3    2020    C    Red      10  2020.0    20.0\n",
      "4    2020    D  Green      20     NaN     NaN\n"
     ]
    }
   ],
   "source": [
    "data1 = pd.DataFrame({'Year': [2020,2020,2020,2020,2020],\n",
    "                     'Week': ['A', 'B', 'B', 'C','D'],\n",
    "                     'Colour': ['Red', 'Red', 'Black', 'Red','Green'],\n",
    "                     'Val1': [50,60,70,10,20]}) \n",
    "\n",
    "data2 = pd.DataFrame({'Year': [2020,2020,2020,2020,2020],\n",
    "                     'Week': ['A', 'B', 'C', 'C','D'],\n",
    "                     'Colour': ['Black', 'Black', 'Green', 'Red','Red'],\n",
    "                     'Val1': [30,100,50,20,40]}) \n",
    "\n",
    "\n",
    "print(\"Original DataFrames:\")\n",
    "print(data1)\n",
    "print(\"--------------------\")\n",
    "print(data2)\n",
    "\n",
    "merged_data = pd.merge(data1, data2, how='left', on=['Week', 'Colour'])\n",
    "print(merged_data)\n"
   ]
  },
  {
   "cell_type": "code",
   "execution_count": null,
   "metadata": {},
   "outputs": [],
   "source": []
  },
  {
   "cell_type": "code",
   "execution_count": null,
   "metadata": {},
   "outputs": [],
   "source": []
  },
  {
   "cell_type": "code",
   "execution_count": null,
   "metadata": {},
   "outputs": [],
   "source": []
  },
  {
   "cell_type": "code",
   "execution_count": null,
   "metadata": {},
   "outputs": [],
   "source": []
  },
  {
   "cell_type": "code",
   "execution_count": null,
   "metadata": {},
   "outputs": [],
   "source": []
  },
  {
   "cell_type": "code",
   "execution_count": null,
   "metadata": {},
   "outputs": [],
   "source": []
  },
  {
   "cell_type": "code",
   "execution_count": null,
   "metadata": {},
   "outputs": [],
   "source": []
  },
  {
   "cell_type": "code",
   "execution_count": null,
   "metadata": {},
   "outputs": [],
   "source": []
  },
  {
   "cell_type": "code",
   "execution_count": null,
   "metadata": {},
   "outputs": [],
   "source": []
  },
  {
   "cell_type": "code",
   "execution_count": null,
   "metadata": {},
   "outputs": [],
   "source": []
  },
  {
   "cell_type": "code",
   "execution_count": null,
   "metadata": {},
   "outputs": [],
   "source": []
  },
  {
   "cell_type": "code",
   "execution_count": null,
   "metadata": {},
   "outputs": [],
   "source": []
  },
  {
   "cell_type": "code",
   "execution_count": null,
   "metadata": {},
   "outputs": [],
   "source": []
  },
  {
   "cell_type": "code",
   "execution_count": null,
   "metadata": {},
   "outputs": [],
   "source": []
  },
  {
   "cell_type": "code",
   "execution_count": null,
   "metadata": {},
   "outputs": [],
   "source": []
  },
  {
   "cell_type": "code",
   "execution_count": null,
   "metadata": {},
   "outputs": [],
   "source": []
  }
 ],
 "metadata": {
  "kernelspec": {
   "display_name": "Python 3",
   "language": "python",
   "name": "python3"
  },
  "language_info": {
   "codemirror_mode": {
    "name": "ipython",
    "version": 3
   },
   "file_extension": ".py",
   "mimetype": "text/x-python",
   "name": "python",
   "nbconvert_exporter": "python",
   "pygments_lexer": "ipython3",
   "version": "3.7.0"
  }
 },
 "nbformat": 4,
 "nbformat_minor": 4
}
